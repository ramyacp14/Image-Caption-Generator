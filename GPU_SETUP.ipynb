{
  "cells": [
    {
      "cell_type": "code",
      "source": [
        "pip install tensorflow"
      ],
      "outputs": [
        {
          "output_type": "stream",
          "name": "stdout",
          "text": "Requirement already satisfied: tensorflow in /anaconda/envs/azureml_py38_PT_TF/lib/python3.8/site-packages (2.11.1)\nRequirement already satisfied: gast<=0.4.0,>=0.2.1 in /anaconda/envs/azureml_py38_PT_TF/lib/python3.8/site-packages (from tensorflow) (0.4.0)\nRequirement already satisfied: protobuf<3.20,>=3.9.2 in /anaconda/envs/azureml_py38_PT_TF/lib/python3.8/site-packages (from tensorflow) (3.19.6)\nRequirement already satisfied: h5py>=2.9.0 in /anaconda/envs/azureml_py38_PT_TF/lib/python3.8/site-packages (from tensorflow) (3.9.0)\nRequirement already satisfied: google-pasta>=0.1.1 in /anaconda/envs/azureml_py38_PT_TF/lib/python3.8/site-packages (from tensorflow) (0.2.0)\nRequirement already satisfied: tensorboard<2.12,>=2.11 in /anaconda/envs/azureml_py38_PT_TF/lib/python3.8/site-packages (from tensorflow) (2.11.2)\nRequirement already satisfied: keras<2.12,>=2.11.0 in /anaconda/envs/azureml_py38_PT_TF/lib/python3.8/site-packages (from tensorflow) (2.11.0)\nRequirement already satisfied: libclang>=13.0.0 in /anaconda/envs/azureml_py38_PT_TF/lib/python3.8/site-packages (from tensorflow) (16.0.0)\nRequirement already satisfied: tensorflow-io-gcs-filesystem>=0.23.1 in /anaconda/envs/azureml_py38_PT_TF/lib/python3.8/site-packages (from tensorflow) (0.32.0)\nRequirement already satisfied: absl-py>=1.0.0 in /anaconda/envs/azureml_py38_PT_TF/lib/python3.8/site-packages (from tensorflow) (1.4.0)\nRequirement already satisfied: flatbuffers>=2.0 in /anaconda/envs/azureml_py38_PT_TF/lib/python3.8/site-packages (from tensorflow) (23.5.26)\nRequirement already satisfied: typing-extensions>=3.6.6 in /anaconda/envs/azureml_py38_PT_TF/lib/python3.8/site-packages (from tensorflow) (4.6.3)\nRequirement already satisfied: packaging in /anaconda/envs/azureml_py38_PT_TF/lib/python3.8/site-packages (from tensorflow) (23.1)\nRequirement already satisfied: wrapt>=1.11.0 in /anaconda/envs/azureml_py38_PT_TF/lib/python3.8/site-packages (from tensorflow) (1.12.1)\nRequirement already satisfied: opt-einsum>=2.3.2 in /anaconda/envs/azureml_py38_PT_TF/lib/python3.8/site-packages (from tensorflow) (3.3.0)\nRequirement already satisfied: six>=1.12.0 in /anaconda/envs/azureml_py38_PT_TF/lib/python3.8/site-packages (from tensorflow) (1.16.0)\nRequirement already satisfied: astunparse>=1.6.0 in /anaconda/envs/azureml_py38_PT_TF/lib/python3.8/site-packages (from tensorflow) (1.6.3)\nRequirement already satisfied: tensorflow-estimator<2.12,>=2.11.0 in /anaconda/envs/azureml_py38_PT_TF/lib/python3.8/site-packages (from tensorflow) (2.11.0)\nRequirement already satisfied: grpcio<2.0,>=1.24.3 in /anaconda/envs/azureml_py38_PT_TF/lib/python3.8/site-packages (from tensorflow) (1.54.2)\nRequirement already satisfied: termcolor>=1.1.0 in /anaconda/envs/azureml_py38_PT_TF/lib/python3.8/site-packages (from tensorflow) (2.3.0)\nRequirement already satisfied: setuptools in /anaconda/envs/azureml_py38_PT_TF/lib/python3.8/site-packages (from tensorflow) (65.6.3)\nRequirement already satisfied: numpy>=1.20 in /anaconda/envs/azureml_py38_PT_TF/lib/python3.8/site-packages (from tensorflow) (1.23.5)\nRequirement already satisfied: wheel<1.0,>=0.23.0 in /anaconda/envs/azureml_py38_PT_TF/lib/python3.8/site-packages (from astunparse>=1.6.0->tensorflow) (0.37.1)\nRequirement already satisfied: markdown>=2.6.8 in /anaconda/envs/azureml_py38_PT_TF/lib/python3.8/site-packages (from tensorboard<2.12,>=2.11->tensorflow) (3.4.3)\nRequirement already satisfied: requests<3,>=2.21.0 in /anaconda/envs/azureml_py38_PT_TF/lib/python3.8/site-packages (from tensorboard<2.12,>=2.11->tensorflow) (2.31.0)\nRequirement already satisfied: google-auth<3,>=1.6.3 in /anaconda/envs/azureml_py38_PT_TF/lib/python3.8/site-packages (from tensorboard<2.12,>=2.11->tensorflow) (2.20.0)\nRequirement already satisfied: tensorboard-plugin-wit>=1.6.0 in /anaconda/envs/azureml_py38_PT_TF/lib/python3.8/site-packages (from tensorboard<2.12,>=2.11->tensorflow) (1.8.1)\nRequirement already satisfied: tensorboard-data-server<0.7.0,>=0.6.0 in /anaconda/envs/azureml_py38_PT_TF/lib/python3.8/site-packages (from tensorboard<2.12,>=2.11->tensorflow) (0.6.1)\nRequirement already satisfied: google-auth-oauthlib<0.5,>=0.4.1 in /anaconda/envs/azureml_py38_PT_TF/lib/python3.8/site-packages (from tensorboard<2.12,>=2.11->tensorflow) (0.4.6)\nRequirement already satisfied: werkzeug>=1.0.1 in /anaconda/envs/azureml_py38_PT_TF/lib/python3.8/site-packages (from tensorboard<2.12,>=2.11->tensorflow) (2.3.6)\nRequirement already satisfied: urllib3<2.0 in /anaconda/envs/azureml_py38_PT_TF/lib/python3.8/site-packages (from google-auth<3,>=1.6.3->tensorboard<2.12,>=2.11->tensorflow) (1.26.16)\nRequirement already satisfied: pyasn1-modules>=0.2.1 in /anaconda/envs/azureml_py38_PT_TF/lib/python3.8/site-packages (from google-auth<3,>=1.6.3->tensorboard<2.12,>=2.11->tensorflow) (0.3.0)\nRequirement already satisfied: rsa<5,>=3.1.4 in /anaconda/envs/azureml_py38_PT_TF/lib/python3.8/site-packages (from google-auth<3,>=1.6.3->tensorboard<2.12,>=2.11->tensorflow) (4.9)\nRequirement already satisfied: cachetools<6.0,>=2.0.0 in /anaconda/envs/azureml_py38_PT_TF/lib/python3.8/site-packages (from google-auth<3,>=1.6.3->tensorboard<2.12,>=2.11->tensorflow) (5.3.1)\nRequirement already satisfied: requests-oauthlib>=0.7.0 in /anaconda/envs/azureml_py38_PT_TF/lib/python3.8/site-packages (from google-auth-oauthlib<0.5,>=0.4.1->tensorboard<2.12,>=2.11->tensorflow) (1.3.1)\nRequirement already satisfied: importlib-metadata>=4.4 in /anaconda/envs/azureml_py38_PT_TF/lib/python3.8/site-packages (from markdown>=2.6.8->tensorboard<2.12,>=2.11->tensorflow) (6.7.0)\nRequirement already satisfied: charset-normalizer<4,>=2 in /anaconda/envs/azureml_py38_PT_TF/lib/python3.8/site-packages (from requests<3,>=2.21.0->tensorboard<2.12,>=2.11->tensorflow) (3.1.0)\nRequirement already satisfied: idna<4,>=2.5 in /anaconda/envs/azureml_py38_PT_TF/lib/python3.8/site-packages (from requests<3,>=2.21.0->tensorboard<2.12,>=2.11->tensorflow) (3.4)\nRequirement already satisfied: certifi>=2017.4.17 in /anaconda/envs/azureml_py38_PT_TF/lib/python3.8/site-packages (from requests<3,>=2.21.0->tensorboard<2.12,>=2.11->tensorflow) (2023.5.7)\nRequirement already satisfied: MarkupSafe>=2.1.1 in /anaconda/envs/azureml_py38_PT_TF/lib/python3.8/site-packages (from werkzeug>=1.0.1->tensorboard<2.12,>=2.11->tensorflow) (2.1.3)\nRequirement already satisfied: zipp>=0.5 in /anaconda/envs/azureml_py38_PT_TF/lib/python3.8/site-packages (from importlib-metadata>=4.4->markdown>=2.6.8->tensorboard<2.12,>=2.11->tensorflow) (3.15.0)\nRequirement already satisfied: pyasn1<0.6.0,>=0.4.6 in /anaconda/envs/azureml_py38_PT_TF/lib/python3.8/site-packages (from pyasn1-modules>=0.2.1->google-auth<3,>=1.6.3->tensorboard<2.12,>=2.11->tensorflow) (0.5.0)\nRequirement already satisfied: oauthlib>=3.0.0 in /anaconda/envs/azureml_py38_PT_TF/lib/python3.8/site-packages (from requests-oauthlib>=0.7.0->google-auth-oauthlib<0.5,>=0.4.1->tensorboard<2.12,>=2.11->tensorflow) (3.2.2)\nNote: you may need to restart the kernel to use updated packages.\n"
        }
      ],
      "execution_count": 10,
      "metadata": {
        "jupyter": {
          "source_hidden": false,
          "outputs_hidden": false
        },
        "nteract": {
          "transient": {
            "deleting": false
          }
        },
        "gather": {
          "logged": 1713582091994
        }
      }
    },
    {
      "cell_type": "code",
      "source": [
        "!nvcc --version"
      ],
      "outputs": [
        {
          "output_type": "stream",
          "name": "stdout",
          "text": "nvcc: NVIDIA (R) Cuda compiler driver\r\nCopyright (c) 2005-2019 NVIDIA Corporation\r\nBuilt on Sun_Jul_28_19:07:16_PDT_2019\r\nCuda compilation tools, release 10.1, V10.1.243\r\n"
        }
      ],
      "execution_count": 11,
      "metadata": {
        "jupyter": {
          "source_hidden": false,
          "outputs_hidden": false
        },
        "nteract": {
          "transient": {
            "deleting": false
          }
        },
        "gather": {
          "logged": 1713579541570
        }
      }
    },
    {
      "cell_type": "code",
      "source": [
        "!nvidia-smi"
      ],
      "outputs": [
        {
          "output_type": "stream",
          "name": "stdout",
          "text": "Sat Apr 20 03:01:32 2024       \r\n+---------------------------------------------------------------------------------------+\r\n| NVIDIA-SMI 535.154.05             Driver Version: 535.154.05   CUDA Version: 12.2     |\r\n|-----------------------------------------+----------------------+----------------------+\r\n| GPU  Name                 Persistence-M | Bus-Id        Disp.A | Volatile Uncorr. ECC |\r\n| Fan  Temp   Perf          Pwr:Usage/Cap |         Memory-Usage | GPU-Util  Compute M. |\r\n|                                         |                      |               MIG M. |\r\n|=========================================+======================+======================|\r\n|   0  Tesla T4                       Off | 00000001:00:00.0 Off |                    0 |\r\n| N/A   32C    P8              13W /  70W |      5MiB / 15360MiB |      0%      Default |\r\n|                                         |                      |                  N/A |\r\n+-----------------------------------------+----------------------+----------------------+\r\n                                                                                         \r\n+---------------------------------------------------------------------------------------+\r\n| Processes:                                                                            |\r\n|  GPU   GI   CI        PID   Type   Process name                            GPU Memory |\r\n|        ID   ID                                                             Usage      |\r\n|=======================================================================================|\r\n|  No running processes found                                                           |\r\n+---------------------------------------------------------------------------------------+\r\n"
        }
      ],
      "execution_count": 12,
      "metadata": {
        "jupyter": {
          "source_hidden": false,
          "outputs_hidden": false
        },
        "nteract": {
          "transient": {
            "deleting": false
          }
        }
      }
    },
    {
      "cell_type": "code",
      "source": [
        "import tensorflow as tf\n",
        "print(\"Num GPUs Available: \", len(tf.config.experimental.list_physical_devices('GPU')))\n"
      ],
      "outputs": [
        {
          "output_type": "stream",
          "name": "stdout",
          "text": "Num GPUs Available:  0\n"
        }
      ],
      "execution_count": 9,
      "metadata": {
        "jupyter": {
          "source_hidden": false,
          "outputs_hidden": false
        },
        "nteract": {
          "transient": {
            "deleting": false
          }
        },
        "gather": {
          "logged": 1713585020087
        }
      }
    },
    {
      "cell_type": "code",
      "source": [
        "from tensorflow.python.client import device_lib\n",
        "\n",
        "def get_available_devices():\n",
        "    local_device_protos = device_lib.list_local_devices()\n",
        "    return [x.name for x in local_device_protos]\n",
        "\n",
        "print(get_available_devices())"
      ],
      "outputs": [
        {
          "output_type": "stream",
          "name": "stdout",
          "text": "['/device:CPU:0']\n"
        },
        {
          "output_type": "stream",
          "name": "stderr",
          "text": "2024-04-20 03:12:04.282418: W tensorflow/core/common_runtime/gpu/gpu_device.cc:1934] Cannot dlopen some GPU libraries. Please make sure the missing libraries mentioned above are installed properly if you would like to use GPU. Follow the guide at https://www.tensorflow.org/install/gpu for how to download and setup the required libraries for your platform.\nSkipping registering GPU devices...\n"
        }
      ],
      "execution_count": 59,
      "metadata": {
        "jupyter": {
          "source_hidden": false,
          "outputs_hidden": false
        },
        "nteract": {
          "transient": {
            "deleting": false
          }
        },
        "gather": {
          "logged": 1713582723651
        }
      }
    },
    {
      "cell_type": "code",
      "source": [
        "# !pip uninstall tensorflow --yes"
      ],
      "outputs": [],
      "execution_count": 14,
      "metadata": {
        "jupyter": {
          "source_hidden": false,
          "outputs_hidden": false
        },
        "nteract": {
          "transient": {
            "deleting": false
          }
        },
        "gather": {
          "logged": 1713582093897
        }
      }
    },
    {
      "cell_type": "code",
      "source": [
        "# !pip install tensorflow"
      ],
      "outputs": [],
      "execution_count": 15,
      "metadata": {
        "jupyter": {
          "source_hidden": false,
          "outputs_hidden": false
        },
        "nteract": {
          "transient": {
            "deleting": false
          }
        },
        "gather": {
          "logged": 1713582094475
        }
      }
    },
    {
      "cell_type": "code",
      "source": [
        "# !pip install tensorflow-gpu==2.7.0"
      ],
      "outputs": [],
      "execution_count": 16,
      "metadata": {
        "jupyter": {
          "source_hidden": false,
          "outputs_hidden": false
        },
        "nteract": {
          "transient": {
            "deleting": false
          }
        },
        "gather": {
          "logged": 1713582094836
        }
      }
    },
    {
      "cell_type": "code",
      "source": [
        "# import tensorflow as tf\n",
        "# print(\"Num GPUs Available: \", len(tf.config.experimental.list_physical_devices('GPU')))\n"
      ],
      "outputs": [],
      "execution_count": 17,
      "metadata": {
        "jupyter": {
          "source_hidden": false,
          "outputs_hidden": false
        },
        "nteract": {
          "transient": {
            "deleting": false
          }
        },
        "gather": {
          "logged": 1713582095151
        }
      }
    },
    {
      "cell_type": "code",
      "source": [
        "pip install --upgrade pip"
      ],
      "outputs": [
        {
          "output_type": "stream",
          "name": "stdout",
          "text": "Requirement already satisfied: pip in /anaconda/envs/azureml_py38_PT_TF/lib/python3.8/site-packages (22.3.1)\nCollecting pip\n  Downloading pip-24.0-py3-none-any.whl (2.1 MB)\n\u001b[2K     \u001b[90m━━━━━━━━━━━━━━━━━━━━━━━━━━━━━━━━━━━━━━━━\u001b[0m \u001b[32m2.1/2.1 MB\u001b[0m \u001b[31m71.4 MB/s\u001b[0m eta \u001b[36m0:00:00\u001b[0m\n\u001b[?25hInstalling collected packages: pip\n  Attempting uninstall: pip\n    Found existing installation: pip 22.3.1\n    Uninstalling pip-22.3.1:\n      Successfully uninstalled pip-22.3.1\nSuccessfully installed pip-24.0\nNote: you may need to restart the kernel to use updated packages.\n"
        }
      ],
      "execution_count": 74,
      "metadata": {
        "jupyter": {
          "source_hidden": false,
          "outputs_hidden": false
        },
        "nteract": {
          "transient": {
            "deleting": false
          }
        },
        "gather": {
          "logged": 1713583547926
        }
      }
    },
    {
      "cell_type": "code",
      "source": [
        "pip list"
      ],
      "outputs": [
        {
          "output_type": "stream",
          "name": "stdout",
          "text": "Package                       Version\n----------------------------- ------------\nabsl-py                       1.4.0\nadal                          1.2.7\napplicationinsights           0.11.10\nargcomplete                   2.1.2\nasttokens                     2.2.1\nastunparse                    1.6.3\nattrs                         23.1.0\nauto-tqdm                     1.0.2\nazure-common                  1.1.28\nazure-core                    1.27.1\nazure-graphrbac               0.61.1\nazure-identity                1.13.0\nazure-mgmt-authorization      3.0.0\nazure-mgmt-containerregistry  10.1.0\nazure-mgmt-core               1.4.0\nazure-mgmt-keyvault           10.2.2\nazure-mgmt-resource           22.0.0\nazure-mgmt-storage            21.0.0\nazure-storage-blob            12.13.0\nazureml-core                  1.51.0.post1\nazureml-dataprep              4.10.8\nazureml-dataprep-native       38.0.0\nazureml-dataprep-rslex        2.17.12\nazureml-dataset-runtime       1.51.0\nazureml-defaults              1.51.0\nazureml-inference-server-http 0.8.4\nazureml-mlflow                1.51.0\nazureml-telemetry             1.51.0\nbackcall                      0.2.0\nbackports.functools-lru-cache 1.6.4\nbackports.tempfile            1.0\nbackports.weakref             1.0.post1\nbcrypt                        4.0.1\ncachetools                    5.3.1\ncertifi                       2023.5.7\ncffi                          1.15.1\ncharset-normalizer            3.1.0\nclick                         8.1.3\ncloudpickle                   2.2.1\ncoloredlogs                   15.0.1\ncomm                          0.1.3\ncontextlib2                   21.6.0\ncontourpy                     1.1.0\ncryptography                  41.0.1\ncycler                        0.11.0\ndatabricks-cli                0.17.7\ndebugpy                       1.5.1\ndecorator                     5.1.1\ndistro                        1.8.0\ndocker                        6.1.3\ndotnetcore2                   3.1.23\nentrypoints                   0.4\nenvironments-utils            1.0.10\nexecuting                     1.2.0\nFlask                         2.2.5\nFlask-Cors                    3.0.10\nflatbuffers                   23.5.26\nfonttools                     4.40.0\nfusepy                        3.0.1\nfuture                        0.18.3\ngast                          0.4.0\ngitdb                         4.0.10\nGitPython                     3.1.31\ngoogle-api-core               2.11.1\ngoogle-auth                   2.20.0\ngoogle-auth-oauthlib          0.4.6\ngoogle-pasta                  0.2.0\ngoogleapis-common-protos      1.59.1\ngrpcio                        1.54.2\ngunicorn                      20.1.0\nh5py                          3.9.0\nhorovod                       0.28.1\nhumanfriendly                 10.0\nhumanize                      4.6.0\nidna                          3.4\nimportlib-metadata            6.7.0\nimportlib-resources           5.12.0\ninference-schema              1.5.1\nipykernel                     6.15.0\nipython                       8.12.0\nisodate                       0.6.1\nitsdangerous                  2.1.2\njax                           0.4.12\njedi                          0.18.2\njeepney                       0.8.0\nJinja2                        3.1.2\njmespath                      1.0.1\njoblib                        1.2.0\njsonpickle                    3.0.1\njsonschema                    4.17.3\njupyter-client                7.0.6\njupyter_core                  4.12.0\nkeras                         2.11.0\nkiwisolver                    1.4.4\nknack                         0.10.1\nlibclang                      16.0.0\nlightgbm                      3.3.5\nMarkdown                      3.4.3\nMarkupSafe                    2.1.3\nmatplotlib                    3.7.1\nmatplotlib-inline             0.1.6\nmkl-fft                       1.3.1\nmkl-random                    1.2.2\nmkl-service                   2.4.0\nml-dtypes                     0.2.0\nmlflow-skinny                 2.4.1\nmpmath                        1.3.0\nmsal                          1.22.0\nmsal-extensions               1.0.0\nmsrest                        0.7.1\nmsrestazure                   0.6.4\nndg-httpsclient               0.5.1\nnest-asyncio                  1.5.6\nnumpy                         1.23.5\noauthlib                      3.2.2\nolefile                       0.46\nonnxruntime-gpu               1.15.1\nopencensus                    0.11.2\nopencensus-context            0.1.3\nopencensus-ext-azure          1.1.9\nopt-einsum                    3.3.0\npackaging                     23.0\npandas                        2.0.2\nparamiko                      3.2.0\nparso                         0.8.3\npathspec                      0.11.1\npexpect                       4.8.0\npickleshare                   0.7.5\nPillow                        8.2.0\npip                           24.0\npkginfo                       1.9.6\npkgutil_resolve_name          1.3.10\nplatformdirs                  3.7.0\nplotly                        5.15.0\nportalocker                   2.7.0\nprompt-toolkit                3.0.30\nprotobuf                      3.19.6\npsutil                        5.9.0\nptyprocess                    0.7.0\npure-eval                     0.2.2\npyarrow                       9.0.0\npyasn1                        0.5.0\npyasn1-modules                0.3.0\npycparser                     2.21\npydantic                      1.10.9\nPygments                      2.15.1\nPyJWT                         2.7.0\nPyNaCl                        1.5.0\npyOpenSSL                     23.2.0\npyparsing                     3.1.0\npyrsistent                    0.19.3\nPySocks                       1.7.1\npython-dateutil               2.8.2\npytz                          2023.3\nPyYAML                        6.0\npyzmq                         19.0.2\nrequests                      2.31.0\nrequests-oauthlib             1.3.1\nrsa                           4.9\nscikit-learn                  1.2.2\nscipy                         1.10.1\nSecretStorage                 3.3.3\nsetuptools                    65.6.3\nsix                           1.16.0\nsmmap                         5.0.0\nsqlparse                      0.4.4\nstack-data                    0.6.2\nsupport-developer             1.0.5\nsympy                         1.12\ntabulate                      0.9.0\ntenacity                      8.2.2\ntensorboard                   2.11.2\ntensorboard-data-server       0.6.1\ntensorboard-plugin-wit        1.8.1\ntensorflow-estimator          2.11.0\ntensorflow-io-gcs-filesystem  0.32.0\ntermcolor                     2.3.0\nthreadpoolctl                 3.1.0\ntorch                         1.12.0\ntorch-tb-profiler             0.4.1\ntorchaudio                    0.12.0\ntorchvision                   0.13.0\ntornado                       6.1\ntqdm                          4.65.0\ntraitlets                     5.9.0\ntyping_extensions             4.6.3\ntzdata                        2023.3\nurllib3                       1.26.16\nwcwidth                       0.2.6\nwebsocket-client              1.6.0\nWerkzeug                      2.3.6\nwheel                         0.37.1\nwrapt                         1.12.1\nzipp                          3.15.0\nNote: you may need to restart the kernel to use updated packages.\n"
        }
      ],
      "execution_count": 1,
      "metadata": {
        "jupyter": {
          "source_hidden": false,
          "outputs_hidden": false
        },
        "nteract": {
          "transient": {
            "deleting": false
          }
        },
        "gather": {
          "logged": 1713583581180
        }
      }
    },
    {
      "cell_type": "code",
      "source": [
        "pip uninstall tensorflow  --yes\n"
      ],
      "outputs": [
        {
          "output_type": "stream",
          "name": "stdout",
          "text": "Found existing installation: tensorflow 2.11.1\nUninstalling tensorflow-2.11.1:\n  Successfully uninstalled tensorflow-2.11.1\nNote: you may need to restart the kernel to use updated packages.\n"
        }
      ],
      "execution_count": 61,
      "metadata": {
        "jupyter": {
          "source_hidden": false,
          "outputs_hidden": false
        },
        "nteract": {
          "transient": {
            "deleting": false
          }
        },
        "gather": {
          "logged": 1713582933342
        }
      }
    },
    {
      "cell_type": "code",
      "source": [
        "# !pip uninstall flatbuffers==23.5.26 --yes\n",
        "# !pip uninstall keras==2.11.0 --yes\n",
        "# !pip uninstall numpy==1.23.5 --yes\n",
        "\n",
        "!pip uninstall -y numpy== 1.23.5"
      ],
      "outputs": [
        {
          "output_type": "stream",
          "name": "stdout",
          "text": "\u001b[33mWARNING: Skipping numpy as it is not installed.\u001b[0m\r\n\u001b[33mWARNING: Skipping 1.23.5 as it is not installed.\u001b[0m\r\n"
        }
      ],
      "execution_count": 5,
      "metadata": {
        "jupyter": {
          "source_hidden": false,
          "outputs_hidden": false
        },
        "nteract": {
          "transient": {
            "deleting": false
          }
        },
        "gather": {
          "logged": 1713583792283
        }
      }
    },
    {
      "cell_type": "code",
      "source": [
        "import tensorflow as tf; print(tf.config.list_physical_devices('GPU'))"
      ],
      "outputs": [
        {
          "output_type": "stream",
          "name": "stderr",
          "text": "2024-04-20 03:49:01.611558: I tensorflow/tsl/cuda/cudart_stub.cc:28] Could not find cuda drivers on your machine, GPU will not be used.\n2024-04-20 03:49:01.657901: I tensorflow/tsl/cuda/cudart_stub.cc:28] Could not find cuda drivers on your machine, GPU will not be used.\n2024-04-20 03:49:01.658735: I tensorflow/core/platform/cpu_feature_guard.cc:182] This TensorFlow binary is optimized to use available CPU instructions in performance-critical operations.\nTo enable the following instructions: AVX2 FMA, in other operations, rebuild TensorFlow with the appropriate compiler flags.\n2024-04-20 03:49:02.513071: W tensorflow/compiler/tf2tensorrt/utils/py_utils.cc:38] TF-TRT Warning: Could not find TensorRT\n2024-04-20 03:49:06.076146: W tensorflow/core/common_runtime/gpu/gpu_device.cc:1960] Cannot dlopen some GPU libraries. Please make sure the missing libraries mentioned above are installed properly if you would like to use GPU. Follow the guide at https://www.tensorflow.org/install/gpu for how to download and setup the required libraries for your platform.\nSkipping registering GPU devices...\n"
        },
        {
          "output_type": "stream",
          "name": "stdout",
          "text": "[]\n"
        }
      ],
      "execution_count": 8,
      "metadata": {
        "jupyter": {
          "source_hidden": false,
          "outputs_hidden": false
        },
        "nteract": {
          "transient": {
            "deleting": false
          }
        },
        "gather": {
          "logged": 1713584945103
        }
      }
    },
    {
      "cell_type": "code",
      "source": [
        "pip install tensorflow"
      ],
      "outputs": [
        {
          "output_type": "stream",
          "name": "stdout",
          "text": "Collecting tensorflow\n  Downloading tensorflow-2.13.1-cp38-cp38-manylinux_2_17_x86_64.manylinux2014_x86_64.whl.metadata (3.4 kB)\nRequirement already satisfied: absl-py>=1.0.0 in /anaconda/envs/azureml_py38_PT_TF/lib/python3.8/site-packages (from tensorflow) (1.4.0)\nRequirement already satisfied: astunparse>=1.6.0 in /anaconda/envs/azureml_py38_PT_TF/lib/python3.8/site-packages (from tensorflow) (1.6.3)\nCollecting flatbuffers>=23.1.21 (from tensorflow)\n  Downloading flatbuffers-24.3.25-py2.py3-none-any.whl.metadata (850 bytes)\nRequirement already satisfied: gast<=0.4.0,>=0.2.1 in /anaconda/envs/azureml_py38_PT_TF/lib/python3.8/site-packages (from tensorflow) (0.4.0)\nRequirement already satisfied: google-pasta>=0.1.1 in /anaconda/envs/azureml_py38_PT_TF/lib/python3.8/site-packages (from tensorflow) (0.2.0)\nRequirement already satisfied: grpcio<2.0,>=1.24.3 in /anaconda/envs/azureml_py38_PT_TF/lib/python3.8/site-packages (from tensorflow) (1.54.2)\nRequirement already satisfied: h5py>=2.9.0 in /anaconda/envs/azureml_py38_PT_TF/lib/python3.8/site-packages (from tensorflow) (3.9.0)\nCollecting keras<2.14,>=2.13.1 (from tensorflow)\n  Downloading keras-2.13.1-py3-none-any.whl.metadata (2.4 kB)\nRequirement already satisfied: libclang>=13.0.0 in /anaconda/envs/azureml_py38_PT_TF/lib/python3.8/site-packages (from tensorflow) (16.0.0)\nRequirement already satisfied: numpy<=1.24.3,>=1.22 in /anaconda/envs/azureml_py38_PT_TF/lib/python3.8/site-packages (from tensorflow) (1.23.5)\nRequirement already satisfied: opt-einsum>=2.3.2 in /anaconda/envs/azureml_py38_PT_TF/lib/python3.8/site-packages (from tensorflow) (3.3.0)\nRequirement already satisfied: packaging in /anaconda/envs/azureml_py38_PT_TF/lib/python3.8/site-packages (from tensorflow) (23.0)\nCollecting protobuf!=4.21.0,!=4.21.1,!=4.21.2,!=4.21.3,!=4.21.4,!=4.21.5,<5.0.0dev,>=3.20.3 (from tensorflow)\n  Downloading protobuf-4.25.3-cp37-abi3-manylinux2014_x86_64.whl.metadata (541 bytes)\nRequirement already satisfied: setuptools in /anaconda/envs/azureml_py38_PT_TF/lib/python3.8/site-packages (from tensorflow) (65.6.3)\nRequirement already satisfied: six>=1.12.0 in /anaconda/envs/azureml_py38_PT_TF/lib/python3.8/site-packages (from tensorflow) (1.16.0)\nCollecting tensorboard<2.14,>=2.13 (from tensorflow)\n  Downloading tensorboard-2.13.0-py3-none-any.whl.metadata (1.8 kB)\nCollecting tensorflow-estimator<2.14,>=2.13.0 (from tensorflow)\n  Downloading tensorflow_estimator-2.13.0-py2.py3-none-any.whl.metadata (1.3 kB)\nRequirement already satisfied: termcolor>=1.1.0 in /anaconda/envs/azureml_py38_PT_TF/lib/python3.8/site-packages (from tensorflow) (2.3.0)\nCollecting typing-extensions<4.6.0,>=3.6.6 (from tensorflow)\n  Downloading typing_extensions-4.5.0-py3-none-any.whl.metadata (8.5 kB)\nRequirement already satisfied: wrapt>=1.11.0 in /anaconda/envs/azureml_py38_PT_TF/lib/python3.8/site-packages (from tensorflow) (1.12.1)\nRequirement already satisfied: tensorflow-io-gcs-filesystem>=0.23.1 in /anaconda/envs/azureml_py38_PT_TF/lib/python3.8/site-packages (from tensorflow) (0.32.0)\nRequirement already satisfied: wheel<1.0,>=0.23.0 in /anaconda/envs/azureml_py38_PT_TF/lib/python3.8/site-packages (from astunparse>=1.6.0->tensorflow) (0.37.1)\nRequirement already satisfied: google-auth<3,>=1.6.3 in /anaconda/envs/azureml_py38_PT_TF/lib/python3.8/site-packages (from tensorboard<2.14,>=2.13->tensorflow) (2.20.0)\nCollecting google-auth-oauthlib<1.1,>=0.5 (from tensorboard<2.14,>=2.13->tensorflow)\n  Downloading google_auth_oauthlib-1.0.0-py2.py3-none-any.whl.metadata (2.7 kB)\nRequirement already satisfied: markdown>=2.6.8 in /anaconda/envs/azureml_py38_PT_TF/lib/python3.8/site-packages (from tensorboard<2.14,>=2.13->tensorflow) (3.4.3)\nRequirement already satisfied: requests<3,>=2.21.0 in /anaconda/envs/azureml_py38_PT_TF/lib/python3.8/site-packages (from tensorboard<2.14,>=2.13->tensorflow) (2.31.0)\nCollecting tensorboard-data-server<0.8.0,>=0.7.0 (from tensorboard<2.14,>=2.13->tensorflow)\n  Downloading tensorboard_data_server-0.7.2-py3-none-manylinux_2_31_x86_64.whl.metadata (1.1 kB)\nRequirement already satisfied: werkzeug>=1.0.1 in /anaconda/envs/azureml_py38_PT_TF/lib/python3.8/site-packages (from tensorboard<2.14,>=2.13->tensorflow) (2.3.6)\nRequirement already satisfied: cachetools<6.0,>=2.0.0 in /anaconda/envs/azureml_py38_PT_TF/lib/python3.8/site-packages (from google-auth<3,>=1.6.3->tensorboard<2.14,>=2.13->tensorflow) (5.3.1)\nRequirement already satisfied: pyasn1-modules>=0.2.1 in /anaconda/envs/azureml_py38_PT_TF/lib/python3.8/site-packages (from google-auth<3,>=1.6.3->tensorboard<2.14,>=2.13->tensorflow) (0.3.0)\nRequirement already satisfied: rsa<5,>=3.1.4 in /anaconda/envs/azureml_py38_PT_TF/lib/python3.8/site-packages (from google-auth<3,>=1.6.3->tensorboard<2.14,>=2.13->tensorflow) (4.9)\nRequirement already satisfied: urllib3<2.0 in /anaconda/envs/azureml_py38_PT_TF/lib/python3.8/site-packages (from google-auth<3,>=1.6.3->tensorboard<2.14,>=2.13->tensorflow) (1.26.16)\nRequirement already satisfied: requests-oauthlib>=0.7.0 in /anaconda/envs/azureml_py38_PT_TF/lib/python3.8/site-packages (from google-auth-oauthlib<1.1,>=0.5->tensorboard<2.14,>=2.13->tensorflow) (1.3.1)\nRequirement already satisfied: importlib-metadata>=4.4 in /anaconda/envs/azureml_py38_PT_TF/lib/python3.8/site-packages (from markdown>=2.6.8->tensorboard<2.14,>=2.13->tensorflow) (6.7.0)\nRequirement already satisfied: charset-normalizer<4,>=2 in /anaconda/envs/azureml_py38_PT_TF/lib/python3.8/site-packages (from requests<3,>=2.21.0->tensorboard<2.14,>=2.13->tensorflow) (3.1.0)\nRequirement already satisfied: idna<4,>=2.5 in /anaconda/envs/azureml_py38_PT_TF/lib/python3.8/site-packages (from requests<3,>=2.21.0->tensorboard<2.14,>=2.13->tensorflow) (3.4)\nRequirement already satisfied: certifi>=2017.4.17 in /anaconda/envs/azureml_py38_PT_TF/lib/python3.8/site-packages (from requests<3,>=2.21.0->tensorboard<2.14,>=2.13->tensorflow) (2023.5.7)\nRequirement already satisfied: MarkupSafe>=2.1.1 in /anaconda/envs/azureml_py38_PT_TF/lib/python3.8/site-packages (from werkzeug>=1.0.1->tensorboard<2.14,>=2.13->tensorflow) (2.1.3)\nRequirement already satisfied: zipp>=0.5 in /anaconda/envs/azureml_py38_PT_TF/lib/python3.8/site-packages (from importlib-metadata>=4.4->markdown>=2.6.8->tensorboard<2.14,>=2.13->tensorflow) (3.15.0)\nRequirement already satisfied: pyasn1<0.6.0,>=0.4.6 in /anaconda/envs/azureml_py38_PT_TF/lib/python3.8/site-packages (from pyasn1-modules>=0.2.1->google-auth<3,>=1.6.3->tensorboard<2.14,>=2.13->tensorflow) (0.5.0)\nRequirement already satisfied: oauthlib>=3.0.0 in /anaconda/envs/azureml_py38_PT_TF/lib/python3.8/site-packages (from requests-oauthlib>=0.7.0->google-auth-oauthlib<1.1,>=0.5->tensorboard<2.14,>=2.13->tensorflow) (3.2.2)\nDownloading tensorflow-2.13.1-cp38-cp38-manylinux_2_17_x86_64.manylinux2014_x86_64.whl (479.6 MB)\n\u001b[2K   \u001b[90m━━━━━━━━━━━━━━━━━━━━━━━━━━━━━━━━━━━━━━━━\u001b[0m \u001b[32m479.6/479.6 MB\u001b[0m \u001b[31m3.3 MB/s\u001b[0m eta \u001b[36m0:00:00\u001b[0m:00:01\u001b[0m00:01\u001b[0m\n\u001b[?25hDownloading flatbuffers-24.3.25-py2.py3-none-any.whl (26 kB)\nDownloading keras-2.13.1-py3-none-any.whl (1.7 MB)\n\u001b[2K   \u001b[90m━━━━━━━━━━━━━━━━━━━━━━━━━━━━━━━━━━━━━━━━\u001b[0m \u001b[32m1.7/1.7 MB\u001b[0m \u001b[31m63.5 MB/s\u001b[0m eta \u001b[36m0:00:00\u001b[0m\n\u001b[?25hDownloading protobuf-4.25.3-cp37-abi3-manylinux2014_x86_64.whl (294 kB)\n\u001b[2K   \u001b[90m━━━━━━━━━━━━━━━━━━━━━━━━━━━━━━━━━━━━━━━━\u001b[0m \u001b[32m294.6/294.6 kB\u001b[0m \u001b[31m20.3 MB/s\u001b[0m eta \u001b[36m0:00:00\u001b[0m\n\u001b[?25hDownloading tensorboard-2.13.0-py3-none-any.whl (5.6 MB)\n\u001b[2K   \u001b[90m━━━━━━━━━━━━━━━━━━━━━━━━━━━━━━━━━━━━━━━━\u001b[0m \u001b[32m5.6/5.6 MB\u001b[0m \u001b[31m102.4 MB/s\u001b[0m eta \u001b[36m0:00:00\u001b[0m00:01\u001b[0m\n\u001b[?25hDownloading tensorflow_estimator-2.13.0-py2.py3-none-any.whl (440 kB)\n\u001b[2K   \u001b[90m━━━━━━━━━━━━━━━━━━━━━━━━━━━━━━━━━━━━━━━━\u001b[0m \u001b[32m440.8/440.8 kB\u001b[0m \u001b[31m28.1 MB/s\u001b[0m eta \u001b[36m0:00:00\u001b[0m\n\u001b[?25hDownloading typing_extensions-4.5.0-py3-none-any.whl (27 kB)\nDownloading google_auth_oauthlib-1.0.0-py2.py3-none-any.whl (18 kB)\nDownloading tensorboard_data_server-0.7.2-py3-none-manylinux_2_31_x86_64.whl (6.6 MB)\n\u001b[2K   \u001b[90m━━━━━━━━━━━━━━━━━━━━━━━━━━━━━━━━━━━━━━━━\u001b[0m \u001b[32m6.6/6.6 MB\u001b[0m \u001b[31m112.6 MB/s\u001b[0m eta \u001b[36m0:00:00\u001b[0m00:01\u001b[0m\n\u001b[?25hInstalling collected packages: flatbuffers, typing-extensions, tensorflow-estimator, tensorboard-data-server, protobuf, keras, google-auth-oauthlib, tensorboard, tensorflow\n  Attempting uninstall: flatbuffers\n    Found existing installation: flatbuffers 2.0\n    Uninstalling flatbuffers-2.0:\n      Successfully uninstalled flatbuffers-2.0\n  Attempting uninstall: typing-extensions\n    Found existing installation: typing_extensions 4.6.3\n    Uninstalling typing_extensions-4.6.3:\n      Successfully uninstalled typing_extensions-4.6.3\n  Attempting uninstall: tensorflow-estimator\n    Found existing installation: tensorflow-estimator 2.11.0\n    Uninstalling tensorflow-estimator-2.11.0:\n      Successfully uninstalled tensorflow-estimator-2.11.0\n  Attempting uninstall: tensorboard-data-server\n    Found existing installation: tensorboard-data-server 0.6.1\n    Uninstalling tensorboard-data-server-0.6.1:\n      Successfully uninstalled tensorboard-data-server-0.6.1\n  Attempting uninstall: protobuf\n    Found existing installation: protobuf 3.19.6\n    Uninstalling protobuf-3.19.6:\n      Successfully uninstalled protobuf-3.19.6\n  Attempting uninstall: keras\n    Found existing installation: keras 2.11.0\n    Uninstalling keras-2.11.0:\n      Successfully uninstalled keras-2.11.0\n  Attempting uninstall: google-auth-oauthlib\n    Found existing installation: google-auth-oauthlib 0.4.6\n    Uninstalling google-auth-oauthlib-0.4.6:\n      Successfully uninstalled google-auth-oauthlib-0.4.6\n  Attempting uninstall: tensorboard\n    Found existing installation: tensorboard 2.11.2\n    Uninstalling tensorboard-2.11.2:\n      Successfully uninstalled tensorboard-2.11.2\nSuccessfully installed flatbuffers-24.3.25 google-auth-oauthlib-1.0.0 keras-2.13.1 protobuf-4.25.3 tensorboard-2.13.0 tensorboard-data-server-0.7.2 tensorflow-2.13.1 tensorflow-estimator-2.13.0 typing-extensions-4.5.0\nNote: you may need to restart the kernel to use updated packages.\n"
        }
      ],
      "execution_count": 7,
      "metadata": {
        "jupyter": {
          "source_hidden": false,
          "outputs_hidden": false
        },
        "nteract": {
          "transient": {
            "deleting": false
          }
        },
        "gather": {
          "logged": 1713584937019
        }
      }
    },
    {
      "cell_type": "code",
      "source": [
        "pip freeze"
      ],
      "outputs": [
        {
          "output_type": "stream",
          "name": "stdout",
          "text": "absl-py==1.4.0\r\nadal==1.2.7\r\napplicationinsights==0.11.10\r\nargcomplete==2.1.2\r\nasttokens @ file:///home/conda/feedstock_root/build_artifacts/asttokens_1670263926556/work\r\nastunparse==1.6.3\r\nattrs==23.1.0\r\nauto-tqdm==1.0.2\r\nazure-common==1.1.28\r\nazure-core==1.27.1\r\nazure-graphrbac==0.61.1\r\nazure-identity==1.13.0\r\nazure-mgmt-authorization==3.0.0\r\nazure-mgmt-containerregistry==10.1.0\r\nazure-mgmt-core==1.4.0\r\nazure-mgmt-keyvault==10.2.2\r\nazure-mgmt-resource==22.0.0\r\nazure-mgmt-storage==21.0.0\r\nazure-storage-blob==12.13.0\r\nazureml-core==1.51.0.post1\r\nazureml-dataprep==4.10.8\r\nazureml-dataprep-native==38.0.0\r\nazureml-dataprep-rslex==2.17.12\r\nazureml-dataset-runtime==1.51.0\r\nazureml-defaults==1.51.0\r\nazureml-inference-server-http==0.8.4\r\nazureml-mlflow==1.51.0\r\nazureml-telemetry==1.51.0\r\nbackcall @ file:///home/conda/feedstock_root/build_artifacts/backcall_1592338393461/work\r\nbackports.functools-lru-cache @ file:///home/conda/feedstock_root/build_artifacts/backports.functools_lru_cache_1618230623929/work\r\nbackports.tempfile==1.0\r\nbackports.weakref==1.0.post1\r\nbcrypt==4.0.1\r\ncachetools==5.3.1\r\ncertifi==2023.5.7\r\ncffi==1.15.1\r\ncharset-normalizer @ file:///home/conda/feedstock_root/build_artifacts/charset-normalizer_1678108872112/work\r\nclick==8.1.3\r\ncloudpickle==2.2.1\r\ncoloredlogs==15.0.1\r\ncomm==0.1.3\r\ncontextlib2==21.6.0\r\ncontourpy==1.1.0\r\ncryptography==41.0.1\r\ncycler==0.11.0\r\ndatabricks-cli==0.17.7\r\ndebugpy @ file:///tmp/build/80754af9/debugpy_1637091796427/work\r\ndecorator @ file:///home/conda/feedstock_root/build_artifacts/decorator_1641555617451/work\r\ndistro==1.8.0\r\ndocker==6.1.3\r\ndotnetcore2==3.1.23\r\nentrypoints @ file:///home/conda/feedstock_root/build_artifacts/entrypoints_1643888246732/work\r\nenvironments-utils==1.0.10\r\nexecuting @ file:///home/conda/feedstock_root/build_artifacts/executing_1667317341051/work\r\nFlask==2.2.5\r\nFlask-Cors==3.0.10\r\nflatbuffers==2.0\r\nfonttools==4.40.0\r\nfusepy==3.0.1\r\nfuture==0.18.3\r\ngast==0.4.0\r\ngitdb==4.0.10\r\nGitPython==3.1.31\r\ngoogle-api-core==2.11.1\r\ngoogle-auth==2.20.0\r\ngoogle-auth-oauthlib==0.4.6\r\ngoogle-pasta==0.2.0\r\ngoogleapis-common-protos==1.59.1\r\ngrpcio==1.54.2\r\ngunicorn==20.1.0\r\nh5py==3.9.0\r\nhorovod==0.28.1\r\nhumanfriendly==10.0\r\nhumanize==4.6.0\r\nidna @ file:///home/conda/feedstock_root/build_artifacts/idna_1663625384323/work\r\nimportlib-metadata==6.7.0\r\nimportlib-resources==5.12.0\r\ninference-schema==1.5.1\r\nipykernel @ file:///home/conda/feedstock_root/build_artifacts/ipykernel_1655369107642/work\r\nipython @ file:///home/conda/feedstock_root/build_artifacts/ipython_1680185408135/work\r\nisodate==0.6.1\r\nitsdangerous==2.1.2\r\njax==0.4.12\r\njedi @ file:///home/conda/feedstock_root/build_artifacts/jedi_1669134318875/work\r\njeepney==0.8.0\r\nJinja2==3.1.2\r\njmespath==1.0.1\r\njoblib==1.2.0\r\njsonpickle==3.0.1\r\njsonschema==4.17.3\r\njupyter-client @ file:///home/conda/feedstock_root/build_artifacts/jupyter_client_1633454794268/work\r\njupyter_core @ file:///home/conda/feedstock_root/build_artifacts/jupyter_core_1669775081186/work\r\nkeras==2.11.0\r\nkiwisolver==1.4.4\r\nknack==0.10.1\r\nlibclang==16.0.0\r\nlightgbm==3.3.5\r\nMarkdown==3.4.3\r\nMarkupSafe==2.1.3\r\nmatplotlib==3.7.1\r\nmatplotlib-inline @ file:///home/conda/feedstock_root/build_artifacts/matplotlib-inline_1660814786464/work\r\nmkl-fft==1.3.1\r\nmkl-random==1.2.2\r\nmkl-service==2.4.0\r\nml-dtypes==0.2.0\r\nmlflow-skinny==2.4.1\r\nmpmath==1.3.0\r\nmsal==1.22.0\r\nmsal-extensions==1.0.0\r\nmsrest==0.7.1\r\nmsrestazure==0.6.4\r\nndg-httpsclient==0.5.1\r\nnest-asyncio @ file:///home/conda/feedstock_root/build_artifacts/nest-asyncio_1664684991461/work\r\nnumpy==1.23.5\r\noauthlib==3.2.2\r\nolefile @ file:///home/conda/feedstock_root/build_artifacts/olefile_1602866521163/work\r\nonnxruntime-gpu==1.15.1\r\nopencensus==0.11.2\r\nopencensus-context==0.1.3\r\nopencensus-ext-azure==1.1.9\r\nopt-einsum==3.3.0\r\npackaging==23.0\r\npandas==2.0.2\r\nparamiko==3.2.0\r\nparso @ file:///home/conda/feedstock_root/build_artifacts/parso_1638334955874/work\r\npathspec==0.11.1\r\npexpect @ file:///home/conda/feedstock_root/build_artifacts/pexpect_1667297516076/work\r\npickleshare @ file:///home/conda/feedstock_root/build_artifacts/pickleshare_1602536217715/work\r\nPillow @ file:///home/conda/feedstock_root/build_artifacts/pillow_1621287973719/work\r\npkginfo==1.9.6\r\npkgutil_resolve_name==1.3.10\r\nplatformdirs==3.7.0\r\nplotly==5.15.0\r\nportalocker==2.7.0\r\nprompt-toolkit==3.0.30\r\nprotobuf==3.19.6\r\npsutil @ file:///opt/conda/conda-bld/psutil_1656431268089/work\r\nptyprocess @ file:///home/conda/feedstock_root/build_artifacts/ptyprocess_1609419310487/work/dist/ptyprocess-0.7.0-py2.py3-none-any.whl\r\npure-eval @ file:///home/conda/feedstock_root/build_artifacts/pure_eval_1642875951954/work\r\npyarrow==9.0.0\r\npyasn1==0.5.0\r\npyasn1-modules==0.3.0\r\npycparser==2.21\r\npydantic==1.10.9\r\nPygments @ file:///home/conda/feedstock_root/build_artifacts/pygments_1681904169130/work\r\nPyJWT==2.7.0\r\nPyNaCl==1.5.0\r\npyOpenSSL==23.2.0\r\npyparsing==3.1.0\r\npyrsistent==0.19.3\r\nPySocks @ file:///home/conda/feedstock_root/build_artifacts/pysocks_1661604839144/work\r\npython-dateutil @ file:///home/conda/feedstock_root/build_artifacts/python-dateutil_1626286286081/work\r\npytz==2023.3\r\nPyYAML==6.0\r\npyzmq==19.0.2\r\nrequests @ file:///home/conda/feedstock_root/build_artifacts/requests_1684774241324/work\r\nrequests-oauthlib==1.3.1\r\nrsa==4.9\r\nscikit-learn==1.2.2\r\nscipy==1.10.1\r\nSecretStorage==3.3.3\r\nsix @ file:///home/conda/feedstock_root/build_artifacts/six_1620240208055/work\r\nsmmap==5.0.0\r\nsqlparse==0.4.4\r\nstack-data @ file:///home/conda/feedstock_root/build_artifacts/stack_data_1669632077133/work\r\nsupport-developer==1.0.5\r\nsympy==1.12\r\ntabulate==0.9.0\r\ntenacity==8.2.2\r\ntensorboard==2.11.2\r\ntensorboard-data-server==0.6.1\r\ntensorboard-plugin-wit==1.8.1\r\ntensorflow-estimator==2.11.0\r\ntensorflow-io-gcs-filesystem==0.32.0\r\ntermcolor==2.3.0\r\nthreadpoolctl==3.1.0\r\ntorch==1.12.0\r\ntorch-tb-profiler==0.4.1\r\ntorchaudio==0.12.0\r\ntorchvision==0.13.0\r\ntornado @ file:///home/conda/feedstock_root/build_artifacts/tornado_1648827257044/work\r\ntqdm==4.65.0\r\ntraitlets @ file:///home/conda/feedstock_root/build_artifacts/traitlets_1675110562325/work\r\ntyping_extensions @ file:///home/conda/feedstock_root/build_artifacts/typing_extensions_1685704949284/work\r\ntzdata==2023.3\r\nurllib3==1.26.16\r\nwcwidth==0.2.6\r\nwebsocket-client==1.6.0\r\nWerkzeug==2.3.6\r\nwrapt==1.12.1\r\nzipp==3.15.0\r\nNote: you may need to restart the kernel to use updated packages.\n"
        }
      ],
      "execution_count": 4,
      "metadata": {
        "jupyter": {
          "source_hidden": false,
          "outputs_hidden": false
        },
        "nteract": {
          "transient": {
            "deleting": false
          }
        },
        "gather": {
          "logged": 1713584726874
        }
      }
    },
    {
      "cell_type": "markdown",
      "source": [
        "image.png"
      ],
      "metadata": {
        "nteract": {
          "transient": {
            "deleting": false
          }
        }
      }
    },
    {
      "cell_type": "code",
      "source": [
        "pip install --upgrade flatbuffers==2.0"
      ],
      "outputs": [
        {
          "output_type": "stream",
          "name": "stdout",
          "text": "Collecting flatbuffers==2.0\n  Downloading flatbuffers-2.0-py2.py3-none-any.whl.metadata (871 bytes)\nDownloading flatbuffers-2.0-py2.py3-none-any.whl (26 kB)\nInstalling collected packages: flatbuffers\n  Attempting uninstall: flatbuffers\n    Found existing installation: flatbuffers 23.5.26\n    Uninstalling flatbuffers-23.5.26:\n      Successfully uninstalled flatbuffers-23.5.26\nSuccessfully installed flatbuffers-2.0\nNote: you may need to restart the kernel to use updated packages.\n"
        }
      ],
      "execution_count": 8,
      "metadata": {
        "jupyter": {
          "source_hidden": false,
          "outputs_hidden": false
        },
        "nteract": {
          "transient": {
            "deleting": false
          }
        },
        "gather": {
          "logged": 1713584464723
        }
      }
    },
    {
      "cell_type": "code",
      "source": [
        "# # For GPU users\n",
        "# !pip install tensorflow[and-cuda]\n",
        "\n",
        "!pip install -U tensorflow[and-cuda]"
      ],
      "outputs": [
        {
          "output_type": "stream",
          "name": "stdout",
          "text": "Requirement already up-to-date: tensorflow[and-cuda] in /anaconda/envs/azureml_py38/lib/python3.8/site-packages (2.13.1)\n\u001b[33m  WARNING: tensorflow 2.13.1 does not provide the extra 'and-cuda'\u001b[0m\nRequirement already satisfied, skipping upgrade: numpy<=1.24.3,>=1.22 in /anaconda/envs/azureml_py38/lib/python3.8/site-packages (from tensorflow[and-cuda]) (1.24.3)\nRequirement already satisfied, skipping upgrade: tensorboard<2.14,>=2.13 in /anaconda/envs/azureml_py38/lib/python3.8/site-packages (from tensorflow[and-cuda]) (2.13.0)\nRequirement already satisfied, skipping upgrade: keras<2.14,>=2.13.1 in /anaconda/envs/azureml_py38/lib/python3.8/site-packages (from tensorflow[and-cuda]) (2.13.1)\nRequirement already satisfied, skipping upgrade: termcolor>=1.1.0 in /anaconda/envs/azureml_py38/lib/python3.8/site-packages (from tensorflow[and-cuda]) (2.3.0)\nRequirement already satisfied, skipping upgrade: tensorflow-estimator<2.14,>=2.13.0 in /anaconda/envs/azureml_py38/lib/python3.8/site-packages (from tensorflow[and-cuda]) (2.13.0)\nRequirement already satisfied, skipping upgrade: gast<=0.4.0,>=0.2.1 in /anaconda/envs/azureml_py38/lib/python3.8/site-packages (from tensorflow[and-cuda]) (0.4.0)\nRequirement already satisfied, skipping upgrade: grpcio<2.0,>=1.24.3 in /anaconda/envs/azureml_py38/lib/python3.8/site-packages (from tensorflow[and-cuda]) (1.54.2)\nRequirement already satisfied, skipping upgrade: setuptools in /anaconda/envs/azureml_py38/lib/python3.8/site-packages (from tensorflow[and-cuda]) (65.6.3)\nRequirement already satisfied, skipping upgrade: absl-py>=1.0.0 in /anaconda/envs/azureml_py38/lib/python3.8/site-packages (from tensorflow[and-cuda]) (1.4.0)\nRequirement already satisfied, skipping upgrade: tensorflow-io-gcs-filesystem>=0.23.1; platform_machine != \"arm64\" or platform_system != \"Darwin\" in /anaconda/envs/azureml_py38/lib/python3.8/site-packages (from tensorflow[and-cuda]) (0.32.0)\nRequirement already satisfied, skipping upgrade: h5py>=2.9.0 in /anaconda/envs/azureml_py38/lib/python3.8/site-packages (from tensorflow[and-cuda]) (3.8.0)\nRequirement already satisfied, skipping upgrade: google-pasta>=0.1.1 in /anaconda/envs/azureml_py38/lib/python3.8/site-packages (from tensorflow[and-cuda]) (0.2.0)\nRequirement already satisfied, skipping upgrade: packaging in /anaconda/envs/azureml_py38/lib/python3.8/site-packages (from tensorflow[and-cuda]) (23.0)\nRequirement already satisfied, skipping upgrade: opt-einsum>=2.3.2 in /anaconda/envs/azureml_py38/lib/python3.8/site-packages (from tensorflow[and-cuda]) (3.3.0)\nRequirement already satisfied, skipping upgrade: flatbuffers>=23.1.21 in /anaconda/envs/azureml_py38/lib/python3.8/site-packages (from tensorflow[and-cuda]) (24.3.25)\nRequirement already satisfied, skipping upgrade: astunparse>=1.6.0 in /anaconda/envs/azureml_py38/lib/python3.8/site-packages (from tensorflow[and-cuda]) (1.6.3)\nRequirement already satisfied, skipping upgrade: libclang>=13.0.0 in /anaconda/envs/azureml_py38/lib/python3.8/site-packages (from tensorflow[and-cuda]) (16.0.0)\nRequirement already satisfied, skipping upgrade: wrapt>=1.11.0 in /anaconda/envs/azureml_py38/lib/python3.8/site-packages (from tensorflow[and-cuda]) (1.12.1)\nRequirement already satisfied, skipping upgrade: six>=1.12.0 in /anaconda/envs/azureml_py38/lib/python3.8/site-packages (from tensorflow[and-cuda]) (1.16.0)\nRequirement already satisfied, skipping upgrade: protobuf!=4.21.0,!=4.21.1,!=4.21.2,!=4.21.3,!=4.21.4,!=4.21.5,<5.0.0dev,>=3.20.3 in /anaconda/envs/azureml_py38/lib/python3.8/site-packages (from tensorflow[and-cuda]) (3.20.3)\nRequirement already satisfied, skipping upgrade: typing-extensions<4.6.0,>=3.6.6 in /anaconda/envs/azureml_py38/lib/python3.8/site-packages (from tensorflow[and-cuda]) (4.5.0)\nRequirement already satisfied, skipping upgrade: wheel>=0.26 in /anaconda/envs/azureml_py38/lib/python3.8/site-packages (from tensorboard<2.14,>=2.13->tensorflow[and-cuda]) (0.37.1)\nRequirement already satisfied, skipping upgrade: werkzeug>=1.0.1 in /anaconda/envs/azureml_py38/lib/python3.8/site-packages (from tensorboard<2.14,>=2.13->tensorflow[and-cuda]) (2.3.4)\nRequirement already satisfied, skipping upgrade: google-auth-oauthlib<1.1,>=0.5 in /anaconda/envs/azureml_py38/lib/python3.8/site-packages (from tensorboard<2.14,>=2.13->tensorflow[and-cuda]) (1.0.0)\nRequirement already satisfied, skipping upgrade: markdown>=2.6.8 in /anaconda/envs/azureml_py38/lib/python3.8/site-packages (from tensorboard<2.14,>=2.13->tensorflow[and-cuda]) (3.4.3)\nRequirement already satisfied, skipping upgrade: tensorboard-data-server<0.8.0,>=0.7.0 in /anaconda/envs/azureml_py38/lib/python3.8/site-packages (from tensorboard<2.14,>=2.13->tensorflow[and-cuda]) (0.7.2)\nRequirement already satisfied, skipping upgrade: requests<3,>=2.21.0 in /anaconda/envs/azureml_py38/lib/python3.8/site-packages (from tensorboard<2.14,>=2.13->tensorflow[and-cuda]) (2.31.0)\nRequirement already satisfied, skipping upgrade: google-auth<3,>=1.6.3 in /anaconda/envs/azureml_py38/lib/python3.8/site-packages (from tensorboard<2.14,>=2.13->tensorflow[and-cuda]) (2.18.1)\nRequirement already satisfied, skipping upgrade: MarkupSafe>=2.1.1 in /anaconda/envs/azureml_py38/lib/python3.8/site-packages (from werkzeug>=1.0.1->tensorboard<2.14,>=2.13->tensorflow[and-cuda]) (2.1.5)\nRequirement already satisfied, skipping upgrade: requests-oauthlib>=0.7.0 in /anaconda/envs/azureml_py38/lib/python3.8/site-packages (from google-auth-oauthlib<1.1,>=0.5->tensorboard<2.14,>=2.13->tensorflow[and-cuda]) (1.3.1)\nRequirement already satisfied, skipping upgrade: importlib-metadata>=4.4; python_version < \"3.10\" in /anaconda/envs/azureml_py38/lib/python3.8/site-packages (from markdown>=2.6.8->tensorboard<2.14,>=2.13->tensorflow[and-cuda]) (6.6.0)\nRequirement already satisfied, skipping upgrade: certifi>=2017.4.17 in /anaconda/envs/azureml_py38/lib/python3.8/site-packages (from requests<3,>=2.21.0->tensorboard<2.14,>=2.13->tensorflow[and-cuda]) (2022.9.24)\nRequirement already satisfied, skipping upgrade: charset-normalizer<4,>=2 in /anaconda/envs/azureml_py38/lib/python3.8/site-packages (from requests<3,>=2.21.0->tensorboard<2.14,>=2.13->tensorflow[and-cuda]) (3.1.0)\nRequirement already satisfied, skipping upgrade: urllib3<3,>=1.21.1 in /anaconda/envs/azureml_py38/lib/python3.8/site-packages (from requests<3,>=2.21.0->tensorboard<2.14,>=2.13->tensorflow[and-cuda]) (1.26.16)\nRequirement already satisfied, skipping upgrade: idna<4,>=2.5 in /anaconda/envs/azureml_py38/lib/python3.8/site-packages (from requests<3,>=2.21.0->tensorboard<2.14,>=2.13->tensorflow[and-cuda]) (3.4)\nRequirement already satisfied, skipping upgrade: pyasn1-modules>=0.2.1 in /anaconda/envs/azureml_py38/lib/python3.8/site-packages (from google-auth<3,>=1.6.3->tensorboard<2.14,>=2.13->tensorflow[and-cuda]) (0.3.0)\nRequirement already satisfied, skipping upgrade: rsa<5,>=3.1.4; python_version >= \"3.6\" in /anaconda/envs/azureml_py38/lib/python3.8/site-packages (from google-auth<3,>=1.6.3->tensorboard<2.14,>=2.13->tensorflow[and-cuda]) (4.9)\nRequirement already satisfied, skipping upgrade: cachetools<6.0,>=2.0.0 in /anaconda/envs/azureml_py38/lib/python3.8/site-packages (from google-auth<3,>=1.6.3->tensorboard<2.14,>=2.13->tensorflow[and-cuda]) (5.3.0)\nRequirement already satisfied, skipping upgrade: oauthlib>=3.0.0 in /anaconda/envs/azureml_py38/lib/python3.8/site-packages (from requests-oauthlib>=0.7.0->google-auth-oauthlib<1.1,>=0.5->tensorboard<2.14,>=2.13->tensorflow[and-cuda]) (3.2.2)\nRequirement already satisfied, skipping upgrade: zipp>=0.5 in /anaconda/envs/azureml_py38/lib/python3.8/site-packages (from importlib-metadata>=4.4; python_version < \"3.10\"->markdown>=2.6.8->tensorboard<2.14,>=2.13->tensorflow[and-cuda]) (3.12.0)\nRequirement already satisfied, skipping upgrade: pyasn1<0.6.0,>=0.4.6 in /anaconda/envs/azureml_py38/lib/python3.8/site-packages (from pyasn1-modules>=0.2.1->google-auth<3,>=1.6.3->tensorboard<2.14,>=2.13->tensorflow[and-cuda]) (0.5.0)\n"
        }
      ],
      "execution_count": 3,
      "metadata": {
        "jupyter": {
          "source_hidden": false,
          "outputs_hidden": false
        },
        "nteract": {
          "transient": {
            "deleting": false
          }
        },
        "gather": {
          "logged": 1713584687581
        }
      }
    },
    {
      "cell_type": "code",
      "source": [
        "# pip install tensorflow-gpu==2.7.0"
      ],
      "outputs": [],
      "execution_count": 20,
      "metadata": {
        "jupyter": {
          "source_hidden": false,
          "outputs_hidden": false
        },
        "nteract": {
          "transient": {
            "deleting": false
          }
        },
        "gather": {
          "logged": 1713582096416
        }
      }
    },
    {
      "cell_type": "code",
      "source": [
        "import tensorflow as tf\n",
        "\n",
        "# Check for GPU availability\n",
        "print(\"Num GPUs Available: \", len(tf.config.experimental.list_physical_devices('GPU')))\n"
      ],
      "outputs": [
        {
          "output_type": "error",
          "ename": "ModuleNotFoundError",
          "evalue": "No module named 'tensorflow'",
          "traceback": [
            "\u001b[0;31m---------------------------------------------------------------------------\u001b[0m",
            "\u001b[0;31mModuleNotFoundError\u001b[0m                       Traceback (most recent call last)",
            "Cell \u001b[0;32mIn[13], line 1\u001b[0m\n\u001b[0;32m----> 1\u001b[0m \u001b[38;5;28;01mimport\u001b[39;00m \u001b[38;5;21;01mtensorflow\u001b[39;00m \u001b[38;5;28;01mas\u001b[39;00m \u001b[38;5;21;01mtf\u001b[39;00m\n\u001b[1;32m      3\u001b[0m \u001b[38;5;66;03m# Check for GPU availability\u001b[39;00m\n\u001b[1;32m      4\u001b[0m \u001b[38;5;28mprint\u001b[39m(\u001b[38;5;124m\"\u001b[39m\u001b[38;5;124mNum GPUs Available: \u001b[39m\u001b[38;5;124m\"\u001b[39m, \u001b[38;5;28mlen\u001b[39m(tf\u001b[38;5;241m.\u001b[39mconfig\u001b[38;5;241m.\u001b[39mexperimental\u001b[38;5;241m.\u001b[39mlist_physical_devices(\u001b[38;5;124m'\u001b[39m\u001b[38;5;124mCPU\u001b[39m\u001b[38;5;124m'\u001b[39m)))\n",
            "\u001b[0;31mModuleNotFoundError\u001b[0m: No module named 'tensorflow'"
          ]
        }
      ],
      "execution_count": 13,
      "metadata": {
        "jupyter": {
          "source_hidden": false,
          "outputs_hidden": false
        },
        "nteract": {
          "transient": {
            "deleting": false
          }
        },
        "gather": {
          "logged": 1713584558369
        }
      }
    },
    {
      "cell_type": "code",
      "source": [
        "import tensorflow as tf\n",
        "\n",
        "# Limit GPU memory growth\n",
        "physical_devices = tf.config.list_physical_devices('GPU')\n",
        "if len(physical_devices) > 0:\n",
        "    tf.config.experimental.set_memory_growth(physical_devices[0], True)\n"
      ],
      "outputs": [
        {
          "output_type": "error",
          "ename": "ModuleNotFoundError",
          "evalue": "No module named 'tensorflow'",
          "traceback": [
            "\u001b[0;31m---------------------------------------------------------------------------\u001b[0m",
            "\u001b[0;31mModuleNotFoundError\u001b[0m                       Traceback (most recent call last)",
            "Cell \u001b[0;32mIn[14], line 1\u001b[0m\n\u001b[0;32m----> 1\u001b[0m \u001b[38;5;28;01mimport\u001b[39;00m \u001b[38;5;21;01mtensorflow\u001b[39;00m \u001b[38;5;28;01mas\u001b[39;00m \u001b[38;5;21;01mtf\u001b[39;00m\n\u001b[1;32m      3\u001b[0m \u001b[38;5;66;03m# Limit GPU memory growth\u001b[39;00m\n\u001b[1;32m      4\u001b[0m physical_devices \u001b[38;5;241m=\u001b[39m tf\u001b[38;5;241m.\u001b[39mconfig\u001b[38;5;241m.\u001b[39mlist_physical_devices(\u001b[38;5;124m'\u001b[39m\u001b[38;5;124mGPU\u001b[39m\u001b[38;5;124m'\u001b[39m)\n",
            "\u001b[0;31mModuleNotFoundError\u001b[0m: No module named 'tensorflow'"
          ]
        }
      ],
      "execution_count": 14,
      "metadata": {
        "jupyter": {
          "source_hidden": false,
          "outputs_hidden": false
        },
        "nteract": {
          "transient": {
            "deleting": false
          }
        },
        "gather": {
          "logged": 1713584570752
        }
      }
    },
    {
      "cell_type": "code",
      "source": [
        "# import tensorflow as tf\n",
        "\n",
        "# # Check for GPU availability\n",
        "# print(\"Num GPUs Available: \", len(tf.config.experimental.list_physical_devices('GPU')))\n"
      ],
      "outputs": [],
      "execution_count": 23,
      "metadata": {
        "jupyter": {
          "source_hidden": false,
          "outputs_hidden": false
        },
        "nteract": {
          "transient": {
            "deleting": false
          }
        },
        "gather": {
          "logged": 1713582097704
        }
      }
    },
    {
      "cell_type": "code",
      "source": [
        "# CUDA_VISIBLE_DEVICES=0 python your_script.py\n"
      ],
      "outputs": [],
      "execution_count": 24,
      "metadata": {
        "jupyter": {
          "source_hidden": false,
          "outputs_hidden": false
        },
        "nteract": {
          "transient": {
            "deleting": false
          }
        },
        "gather": {
          "logged": 1713582098055
        }
      }
    },
    {
      "cell_type": "code",
      "source": [
        "pip list"
      ],
      "outputs": [
        {
          "output_type": "stream",
          "name": "stdout",
          "text": "Package                       Version\n----------------------------- ------------\nabsl-py                       1.4.0\nadal                          1.2.7\napplicationinsights           0.11.10\nargcomplete                   2.1.2\nasttokens                     2.2.1\nastunparse                    1.6.3\nattrs                         23.1.0\nauto-tqdm                     1.0.2\nazure-common                  1.1.28\nazure-core                    1.27.1\nazure-graphrbac               0.61.1\nazure-identity                1.13.0\nazure-mgmt-authorization      3.0.0\nazure-mgmt-containerregistry  10.1.0\nazure-mgmt-core               1.4.0\nazure-mgmt-keyvault           10.2.2\nazure-mgmt-resource           22.0.0\nazure-mgmt-storage            21.0.0\nazure-storage-blob            12.13.0\nazureml-core                  1.51.0.post1\nazureml-dataprep              4.10.8\nazureml-dataprep-native       38.0.0\nazureml-dataprep-rslex        2.17.12\nazureml-dataset-runtime       1.51.0\nazureml-defaults              1.51.0\nazureml-inference-server-http 0.8.4\nazureml-mlflow                1.51.0\nazureml-telemetry             1.51.0\nbackcall                      0.2.0\nbackports.functools-lru-cache 1.6.4\nbackports.tempfile            1.0\nbackports.weakref             1.0.post1\nbcrypt                        4.0.1\ncachetools                    5.3.1\ncertifi                       2023.5.7\ncffi                          1.15.1\ncharset-normalizer            3.1.0\nclick                         8.1.3\ncloudpickle                   2.2.1\ncoloredlogs                   15.0.1\ncomm                          0.1.3\ncontextlib2                   21.6.0\ncontourpy                     1.1.0\ncryptography                  41.0.1\ncycler                        0.11.0\ndatabricks-cli                0.17.7\ndebugpy                       1.6.7\ndecorator                     5.1.1\ndistro                        1.8.0\ndocker                        6.1.3\ndotnetcore2                   3.1.23\nentrypoints                   0.4\nenvironments-utils            1.0.10\nexecuting                     1.2.0\nFlask                         2.2.5\nFlask-Cors                    3.0.10\nflatbuffers                   23.5.26\nfonttools                     4.40.0\nfusepy                        3.0.1\nfuture                        0.18.3\ngast                          0.4.0\ngitdb                         4.0.10\nGitPython                     3.1.31\ngoogle-api-core               2.11.1\ngoogle-auth                   2.20.0\ngoogle-auth-oauthlib          0.4.6\ngoogle-pasta                  0.2.0\ngoogleapis-common-protos      1.59.1\ngrpcio                        1.54.2\ngunicorn                      20.1.0\nh5py                          3.9.0\nhorovod                       0.28.1\nhumanfriendly                 10.0\nhumanize                      4.6.0\nidna                          3.4\nimportlib-metadata            6.7.0\nimportlib-resources           5.12.0\ninference-schema              1.5.1\nipykernel                     6.23.2\nipython                       8.12.2\nisodate                       0.6.1\nitsdangerous                  2.1.2\njax                           0.4.12\njedi                          0.18.2\njeepney                       0.8.0\nJinja2                        3.1.2\njmespath                      1.0.1\njoblib                        1.2.0\njsonpickle                    3.0.1\njsonschema                    4.17.3\njupyter_client                8.2.0\njupyter_core                  5.3.1\nkeras                         2.11.0\nkiwisolver                    1.4.4\nknack                         0.10.1\nlibclang                      16.0.0\nlightgbm                      3.3.5\nMarkdown                      3.4.3\nMarkupSafe                    2.1.3\nmatplotlib                    3.7.1\nmatplotlib-inline             0.1.6\nmkl-fft                       1.3.1\nmkl-random                    1.2.2\nmkl-service                   2.4.0\nml-dtypes                     0.2.0\nmlflow-skinny                 2.4.1\nmpmath                        1.3.0\nmsal                          1.22.0\nmsal-extensions               1.0.0\nmsrest                        0.7.1\nmsrestazure                   0.6.4\nndg-httpsclient               0.5.1\nnest-asyncio                  1.5.6\nnumpy                         1.23.5\noauthlib                      3.2.2\nolefile                       0.46\nonnxruntime-gpu               1.15.1\nopencensus                    0.11.2\nopencensus-context            0.1.3\nopencensus-ext-azure          1.1.9\nopt-einsum                    3.3.0\npackaging                     23.1\npandas                        2.0.2\nparamiko                      3.2.0\nparso                         0.8.3\npathspec                      0.11.1\npexpect                       4.8.0\npickleshare                   0.7.5\nPillow                        9.5.0\npip                           22.3.1\npkginfo                       1.9.6\npkgutil_resolve_name          1.3.10\nplatformdirs                  3.7.0\nplotly                        5.15.0\nportalocker                   2.7.0\nprompt-toolkit                3.0.30\nprotobuf                      3.19.6\npsutil                        5.9.5\nptyprocess                    0.7.0\npure-eval                     0.2.2\npyarrow                       9.0.0\npyasn1                        0.5.0\npyasn1-modules                0.3.0\npycparser                     2.21\npydantic                      1.10.9\nPygments                      2.15.1\nPyJWT                         2.7.0\nPyNaCl                        1.5.0\npyOpenSSL                     23.2.0\npyparsing                     3.1.0\npyrsistent                    0.19.3\nPySocks                       1.7.1\npython-dateutil               2.8.2\npytz                          2023.3\nPyYAML                        6.0\npyzmq                         25.1.0\nrequests                      2.31.0\nrequests-oauthlib             1.3.1\nrsa                           4.9\nscikit-learn                  1.2.2\nscipy                         1.10.1\nSecretStorage                 3.3.3\nsetuptools                    65.6.3\nsix                           1.16.0\nsmmap                         5.0.0\nsqlparse                      0.4.4\nstack-data                    0.6.2\nsupport-developer             1.0.5\nsympy                         1.12\ntabulate                      0.9.0\ntenacity                      8.2.2\ntensorboard                   2.11.2\ntensorboard-data-server       0.6.1\ntensorboard-plugin-wit        1.8.1\ntensorflow                    2.11.1\ntensorflow-estimator          2.11.0\ntensorflow-io-gcs-filesystem  0.32.0\ntermcolor                     2.3.0\nthreadpoolctl                 3.1.0\ntorch                         1.12.0\ntorch-tb-profiler             0.4.1\ntorchaudio                    0.12.0\ntorchvision                   0.13.0\ntornado                       6.3.2\ntqdm                          4.65.0\ntraitlets                     5.9.0\ntyping_extensions             4.6.3\ntzdata                        2023.3\nurllib3                       1.26.16\nwcwidth                       0.2.6\nwebsocket-client              1.6.0\nWerkzeug                      2.3.6\nwheel                         0.37.1\nwrapt                         1.12.1\nzipp                          3.15.0\nNote: you may need to restart the kernel to use updated packages.\n"
        }
      ],
      "execution_count": 25,
      "metadata": {
        "jupyter": {
          "source_hidden": false,
          "outputs_hidden": false
        },
        "nteract": {
          "transient": {
            "deleting": false
          }
        },
        "gather": {
          "logged": 1713582098643
        }
      }
    },
    {
      "cell_type": "code",
      "source": [
        "# pip install matplotlib"
      ],
      "outputs": [],
      "execution_count": 26,
      "metadata": {
        "jupyter": {
          "source_hidden": false,
          "outputs_hidden": false
        },
        "nteract": {
          "transient": {
            "deleting": false
          }
        },
        "gather": {
          "logged": 1713582099060
        }
      }
    },
    {
      "cell_type": "code",
      "source": [
        "# pip install tqdm"
      ],
      "outputs": [],
      "execution_count": 27,
      "metadata": {
        "jupyter": {
          "source_hidden": false,
          "outputs_hidden": false
        },
        "nteract": {
          "transient": {
            "deleting": false
          }
        },
        "gather": {
          "logged": 1713582099346
        }
      }
    },
    {
      "cell_type": "code",
      "source": [
        "import tensorflow as tf\n",
        "import os\n",
        "import json\n",
        "import pandas as pd\n",
        "import re\n",
        "import numpy as np\n",
        "import time\n",
        "import matplotlib.pyplot as plt\n",
        "import collections\n",
        "import random\n",
        "import requests\n",
        "import json\n",
        "from math import sqrt\n",
        "from PIL import Image\n",
        "from tqdm.auto import tqdm"
      ],
      "outputs": [
        {
          "output_type": "stream",
          "name": "stderr",
          "text": "/anaconda/envs/azureml_py38_PT_TF/lib/python3.8/site-packages/tqdm/auto.py:21: TqdmWarning: IProgress not found. Please update jupyter and ipywidgets. See https://ipywidgets.readthedocs.io/en/stable/user_install.html\n  from .autonotebook import tqdm as notebook_tqdm\n"
        }
      ],
      "execution_count": 28,
      "metadata": {
        "gather": {
          "logged": 1713582099891
        }
      }
    },
    {
      "cell_type": "code",
      "source": [
        "import tensorflow as tf\n",
        "print(\"Num GPUs Available: \", len(tf.config.experimental.list_physical_devices('GPU')))\n"
      ],
      "outputs": [
        {
          "output_type": "stream",
          "name": "stdout",
          "text": "Num GPUs Available:  0\n"
        }
      ],
      "execution_count": 29,
      "metadata": {
        "jupyter": {
          "source_hidden": false,
          "outputs_hidden": false
        },
        "nteract": {
          "transient": {
            "deleting": false
          }
        },
        "gather": {
          "logged": 1713582100561
        }
      }
    },
    {
      "cell_type": "code",
      "source": [
        "caption_model.save(\"image_captioning_model.keras\")\n"
      ],
      "outputs": [],
      "execution_count": null,
      "metadata": {
        "gather": {
          "logged": 1713572194696
        }
      }
    }
  ],
  "metadata": {
    "kernelspec": {
      "name": "python38-azureml-pt-tf",
      "language": "python",
      "display_name": "Python 3.8 - Pytorch and Tensorflow"
    },
    "language_info": {
      "name": "python",
      "version": "3.8.5",
      "mimetype": "text/x-python",
      "codemirror_mode": {
        "name": "ipython",
        "version": 3
      },
      "pygments_lexer": "ipython3",
      "nbconvert_exporter": "python",
      "file_extension": ".py"
    },
    "microsoft": {
      "ms_spell_check": {
        "ms_spell_check_language": "en"
      },
      "host": {
        "AzureML": {
          "notebookHasBeenCompleted": true
        }
      }
    },
    "kernel_info": {
      "name": "python38-azureml-pt-tf"
    },
    "nteract": {
      "version": "nteract-front-end@1.0.0"
    }
  },
  "nbformat": 4,
  "nbformat_minor": 2
}